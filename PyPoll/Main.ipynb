{
 "cells": [
  {
   "cell_type": "code",
   "execution_count": 58,
   "metadata": {
    "scrolled": true
   },
   "outputs": [],
   "source": [
    "# Import Dependencies\n",
    "import os\n",
    "import pandas as pd\n",
    "import numpy as nd"
   ]
  },
  {
   "cell_type": "code",
   "execution_count": 59,
   "metadata": {},
   "outputs": [
    {
     "data": {
      "text/html": [
       "<div>\n",
       "<style scoped>\n",
       "    .dataframe tbody tr th:only-of-type {\n",
       "        vertical-align: middle;\n",
       "    }\n",
       "\n",
       "    .dataframe tbody tr th {\n",
       "        vertical-align: top;\n",
       "    }\n",
       "\n",
       "    .dataframe thead th {\n",
       "        text-align: right;\n",
       "    }\n",
       "</style>\n",
       "<table border=\"1\" class=\"dataframe\">\n",
       "  <thead>\n",
       "    <tr style=\"text-align: right;\">\n",
       "      <th></th>\n",
       "      <th>Voter ID</th>\n",
       "      <th>County</th>\n",
       "      <th>Candidate</th>\n",
       "    </tr>\n",
       "  </thead>\n",
       "  <tbody>\n",
       "    <tr>\n",
       "      <th>0</th>\n",
       "      <td>12864552</td>\n",
       "      <td>Marsh</td>\n",
       "      <td>Khan</td>\n",
       "    </tr>\n",
       "    <tr>\n",
       "      <th>1</th>\n",
       "      <td>17444633</td>\n",
       "      <td>Marsh</td>\n",
       "      <td>Correy</td>\n",
       "    </tr>\n",
       "    <tr>\n",
       "      <th>2</th>\n",
       "      <td>19330107</td>\n",
       "      <td>Marsh</td>\n",
       "      <td>Khan</td>\n",
       "    </tr>\n",
       "    <tr>\n",
       "      <th>3</th>\n",
       "      <td>19865775</td>\n",
       "      <td>Queen</td>\n",
       "      <td>Khan</td>\n",
       "    </tr>\n",
       "    <tr>\n",
       "      <th>4</th>\n",
       "      <td>11927875</td>\n",
       "      <td>Marsh</td>\n",
       "      <td>Khan</td>\n",
       "    </tr>\n",
       "  </tbody>\n",
       "</table>\n",
       "</div>"
      ],
      "text/plain": [
       "   Voter ID County Candidate\n",
       "0  12864552  Marsh      Khan\n",
       "1  17444633  Marsh    Correy\n",
       "2  19330107  Marsh      Khan\n",
       "3  19865775  Queen      Khan\n",
       "4  11927875  Marsh      Khan"
      ]
     },
     "execution_count": 59,
     "metadata": {},
     "output_type": "execute_result"
    }
   ],
   "source": [
    "# Make a reference to the election_data.csv file path\n",
    "csv_path = \"Resources/election_data.csv\"\n",
    "\n",
    "# Import the election_data.csv file as a dataframe\n",
    "election_data_df = pd.read_csv(csv_path, encoding=\"utf-8\")\n",
    "election_data_df.head()"
   ]
  },
  {
   "cell_type": "code",
   "execution_count": 60,
   "metadata": {},
   "outputs": [
    {
     "data": {
      "text/html": [
       "<div>\n",
       "<style scoped>\n",
       "    .dataframe tbody tr th:only-of-type {\n",
       "        vertical-align: middle;\n",
       "    }\n",
       "\n",
       "    .dataframe tbody tr th {\n",
       "        vertical-align: top;\n",
       "    }\n",
       "\n",
       "    .dataframe thead th {\n",
       "        text-align: right;\n",
       "    }\n",
       "</style>\n",
       "<table border=\"1\" class=\"dataframe\">\n",
       "  <thead>\n",
       "    <tr style=\"text-align: right;\">\n",
       "      <th></th>\n",
       "      <th>Candidate</th>\n",
       "      <th>Voter ID</th>\n",
       "    </tr>\n",
       "  </thead>\n",
       "  <tbody>\n",
       "    <tr>\n",
       "      <th>0</th>\n",
       "      <td>Khan</td>\n",
       "      <td>12864552</td>\n",
       "    </tr>\n",
       "    <tr>\n",
       "      <th>1</th>\n",
       "      <td>Correy</td>\n",
       "      <td>17444633</td>\n",
       "    </tr>\n",
       "    <tr>\n",
       "      <th>2</th>\n",
       "      <td>Khan</td>\n",
       "      <td>19330107</td>\n",
       "    </tr>\n",
       "    <tr>\n",
       "      <th>3</th>\n",
       "      <td>Khan</td>\n",
       "      <td>19865775</td>\n",
       "    </tr>\n",
       "    <tr>\n",
       "      <th>4</th>\n",
       "      <td>Khan</td>\n",
       "      <td>11927875</td>\n",
       "    </tr>\n",
       "    <tr>\n",
       "      <th>...</th>\n",
       "      <td>...</td>\n",
       "      <td>...</td>\n",
       "    </tr>\n",
       "    <tr>\n",
       "      <th>3520996</th>\n",
       "      <td>Khan</td>\n",
       "      <td>18050509</td>\n",
       "    </tr>\n",
       "    <tr>\n",
       "      <th>3520997</th>\n",
       "      <td>Khan</td>\n",
       "      <td>13060332</td>\n",
       "    </tr>\n",
       "    <tr>\n",
       "      <th>3520998</th>\n",
       "      <td>Khan</td>\n",
       "      <td>16754708</td>\n",
       "    </tr>\n",
       "    <tr>\n",
       "      <th>3520999</th>\n",
       "      <td>Khan</td>\n",
       "      <td>12083146</td>\n",
       "    </tr>\n",
       "    <tr>\n",
       "      <th>3521000</th>\n",
       "      <td>O'Tooley</td>\n",
       "      <td>14526187</td>\n",
       "    </tr>\n",
       "  </tbody>\n",
       "</table>\n",
       "<p>3521001 rows × 2 columns</p>\n",
       "</div>"
      ],
      "text/plain": [
       "        Candidate  Voter ID\n",
       "0            Khan  12864552\n",
       "1          Correy  17444633\n",
       "2            Khan  19330107\n",
       "3            Khan  19865775\n",
       "4            Khan  11927875\n",
       "...           ...       ...\n",
       "3520996      Khan  18050509\n",
       "3520997      Khan  13060332\n",
       "3520998      Khan  16754708\n",
       "3520999      Khan  12083146\n",
       "3521000  O'Tooley  14526187\n",
       "\n",
       "[3521001 rows x 2 columns]"
      ]
     },
     "execution_count": 60,
     "metadata": {},
     "output_type": "execute_result"
    }
   ],
   "source": [
    "candidates_only_df = election_data_df[[\"Candidate\", \"Voter ID\"]]\n",
    "candidates_only_df"
   ]
  },
  {
   "cell_type": "code",
   "execution_count": 75,
   "metadata": {},
   "outputs": [
    {
     "data": {
      "text/plain": [
       "Khan        2218231\n",
       "Correy       704200\n",
       "Li           492940\n",
       "O'Tooley     105630\n",
       "Name: Candidate, dtype: int64"
      ]
     },
     "execution_count": 75,
     "metadata": {},
     "output_type": "execute_result"
    }
   ],
   "source": [
    "# Complet a list of candidates who recieved votes\n",
    "#votes_received = candidates_only_df[\"Candidate\"].value_counts() / candidates_only_df[\"Voter ID\"].count()\n",
    "votes_received = candidates_only_df[\"Candidate\"].value_counts()\n",
    "votes_received.head()"
   ]
  },
  {
   "cell_type": "code",
   "execution_count": 62,
   "metadata": {},
   "outputs": [
    {
     "data": {
      "text/plain": [
       "3521001"
      ]
     },
     "execution_count": 62,
     "metadata": {},
     "output_type": "execute_result"
    }
   ],
   "source": [
    "# Count the total number of votes cast\n",
    "Total_Votes = candidates_only_df[\"Voter ID\"].count()\n",
    "Total_Votes"
   ]
  },
  {
   "cell_type": "code",
   "execution_count": 78,
   "metadata": {},
   "outputs": [
    {
     "data": {
      "text/plain": [
       "Khan        0.63\n",
       "Correy      0.20\n",
       "Li          0.14\n",
       "O'Tooley    0.03\n",
       "Name: Candidate, dtype: float64"
      ]
     },
     "execution_count": 78,
     "metadata": {},
     "output_type": "execute_result"
    }
   ],
   "source": [
    "# calculate the percentage of votes each candidate won\n",
    "#election_results_df = pd.DataFrame(votes_received)/Total_Votes\n",
    "election_results_df = candidates_only_df[\"Candidate\"].value_counts()/Total_Votes\n",
    "election_results_df.head()\n"
   ]
  },
  {
   "cell_type": "code",
   "execution_count": 91,
   "metadata": {
    "scrolled": true
   },
   "outputs": [
    {
     "name": "stdout",
     "output_type": "stream",
     "text": [
      "Election Results\n",
      "--------------------\n",
      "Total Votes: 3521001\n",
      "--------------------\n",
      "Khan        0.63\n",
      "Correy      0.20\n",
      "Li          0.14\n",
      "O'Tooley    0.03\n",
      "Name: Candidate, dtype: float64\n",
      "--------------------\n",
      "Winner: Khan\n",
      "--------------------\n"
     ]
    }
   ],
   "source": [
    "print(\"Election Results\")\n",
    "print(\"--------------------\")\n",
    "print(\"Total Votes:\",(Total_Votes))\n",
    "print(\"--------------------\")\n",
    "print(election_results_df)\n",
    "print(\"--------------------\")\n",
    "print(\"Winner: Khan\")\n",
    "print(\"--------------------\")"
   ]
  },
  {
   "cell_type": "code",
   "execution_count": 93,
   "metadata": {},
   "outputs": [
    {
     "ename": "SyntaxError",
     "evalue": "invalid syntax (<ipython-input-93-d4d71db2171f>, line 6)",
     "output_type": "error",
     "traceback": [
      "\u001b[1;36m  File \u001b[1;32m\"<ipython-input-93-d4d71db2171f>\"\u001b[1;36m, line \u001b[1;32m6\u001b[0m\n\u001b[1;33m    \"--------------------\"\u001b[0m\n\u001b[1;37m    ^\u001b[0m\n\u001b[1;31mSyntaxError\u001b[0m\u001b[1;31m:\u001b[0m invalid syntax\n"
     ]
    }
   ],
   "source": [
    "f = open(\"ElectionResults.txt\", \"w\")\n",
    "f.write(\n",
    "    \"Election Results\"\n",
    "    \"--------------------\"\n",
    "    \"Total Votes:\",(Total_Votes)\n",
    "    \"--------------------\"\n",
    "    (election_results_df)\n",
    "    \"--------------------\"\n",
    "    \"Winner: Khan\"\n",
    "    \"--------------------\"\n",
    "    )\n",
    "f.close()"
   ]
  },
  {
   "cell_type": "code",
   "execution_count": null,
   "metadata": {},
   "outputs": [],
   "source": []
  }
 ],
 "metadata": {
  "kernelspec": {
   "display_name": "Python [conda env:root]",
   "language": "python",
   "name": "conda-root-py"
  },
  "language_info": {
   "codemirror_mode": {
    "name": "ipython",
    "version": 3
   },
   "file_extension": ".py",
   "mimetype": "text/x-python",
   "name": "python",
   "nbconvert_exporter": "python",
   "pygments_lexer": "ipython3",
   "version": "3.8.3"
  }
 },
 "nbformat": 4,
 "nbformat_minor": 4
}
